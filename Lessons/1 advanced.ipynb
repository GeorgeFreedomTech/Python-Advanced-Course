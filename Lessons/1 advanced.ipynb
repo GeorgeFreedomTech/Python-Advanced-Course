{
 "cells": [
  {
   "cell_type": "markdown",
   "id": "9f4b9698",
   "metadata": {},
   "source": [
    "# 1. Object-Oriented Programming (OOP): Designing Blueprints\n",
    "\n",
    "Object-Oriented Programming (OOP) is a fundamental programming paradigm based on the concept of \"objects\". It's a way of structuring programs so that properties and behaviors are bundled together into individual objects. This is like designing a blueprint for a complex machine (like a robot or a drone) and then building multiple working instances from that single blueprint.\n",
    "\n",
    "- `class`: The blueprint for creating objects.\n",
    "- `object`: A specific instance created from a class.\n",
    "- `attributes`: Variables that belong to an object, defining its properties or state.\n",
    "- `methods`: Functions that belong to an object, defining its behaviors or capabilities."
   ]
  },
  {
   "cell_type": "markdown",
   "id": "c7de98ad",
   "metadata": {},
   "source": [
    "## 1.1. Creating Instances / Objects\n",
    "- Creating a class (`class`).\n",
    "- The constructor (`__init__`).\n",
    "- Attributes (properties) of objects.\n",
    "- Creating objects (instances)."
   ]
  },
  {
   "cell_type": "code",
   "execution_count": null,
   "id": "9ab5ebbc",
   "metadata": {},
   "outputs": [],
   "source": [
    "# A **class** acts as a factory that \"manufactures\" **objects** using a **constructor**.\n",
    "# An object created this way is called an **instance** of that class.\n",
    "# These objects have properties called **attributes**, which are essentially variables tied to that specific object.\n",
    "\n",
    "class ExplorationDrone:\n",
    "    # The __init__() function is the class's constructor. \n",
    "    # It's used to set up the initial state and attributes of the object.\n",
    "    # The first parameter is always 'self', representing the instance itself.\n",
    "    def __init__(self, drone_id: str, model: str, battery_level: float, equipment: list):\n",
    "        self.id = drone_id # These are the object's attributes\n",
    "        self.model = model\n",
    "        self.battery = battery_level\n",
    "        self.equipment_bay = equipment\n",
    "\n",
    "\"\"\"\n",
    "Testing the ExplorationDrone class\n",
    "\"\"\"\n",
    "# We create objects based on the ExplorationDrone blueprint, with specific attributes.\n",
    "# 'drone_01' and 'drone_02' are two separate instances of the ExplorationDrone class.\n",
    "drone_01 = ExplorationDrone(\"D-001\", \"ReconScout V2\", 95.5, [\"High-Res Camera\", \"Geo-Scanner\"])\n",
    "drone_02 = ExplorationDrone(\"D-002\", \"CargoHauler\", 100.0, [\"Grapple Arm\", \"Cargo Container\"])\n",
    "\n",
    "# Accessing the attributes of an object using dot notation\n",
    "print(drone_01.battery) # -> 95.5\n",
    "print(drone_02.equipment_bay) # -> ['Grapple Arm', 'Cargo Container']\n",
    "\n",
    "# -- Changing an object's attribute --\n",
    "# Since these attributes are mutable, we can change their values after creation.\n",
    "drone_01.battery = 80.0 # Assign a new value to the attribute\n",
    "print(f\"Drone {drone_01.id} battery level after maneuver: {drone_01.battery}%\")"
   ]
  },
  {
   "cell_type": "markdown",
   "id": "0fdc898f",
   "metadata": {},
   "source": [
    "## practice I \n",
    "\n",
    "**1. Define an `Operative` Profile:**\n",
    "- Create a class named `Operative`.\n",
    "- The constructor should accept and set up the following attributes for each operative: `callsign` (string), `clearance_level` (integer), `specialization` (string), and `contact_channel` (string).\n",
    "\n",
    "**2. Testing and Verification:**\n",
    "- Create two different **instances** of your `Operative` class with different attribute values (e.g., one for a scientist, one for an engineer).\n",
    "- Using the `print()` function, display a specific **attribute** (e.g., the `specialization`) for both instances to verify they hold unique data.\n",
    "\n",
    "**3. Challenge: Target List Check:**\n",
    "- Create a list of strings named `priority_target_list`, e.g., `[\"Helios\", \"Vesper\", \"Orion\"]`.\n",
    "- Check if the `callsign` attribute of each of your created operative instances is present `in` this list.\n",
    "- If an operative's callsign is on the list, print a message like: `\"Alert: Priority target 'Helios' detected.\"`\n",
    "- If it's not on the list, print a message like: `\"Operative 'Raptor' is not on the priority list.\"`"
   ]
  },
  {
   "cell_type": "markdown",
   "id": "c7d1871d",
   "metadata": {},
   "source": [
    "## 1.2. Object Methods: Defining Behaviors\n",
    "- **Objects** have capabilities and can perform actions. These are called **methods**\n",
    "- Methods are essentially functions that belong to an object and operate on its data."
   ]
  },
  {
   "cell_type": "code",
   "execution_count": null,
   "id": "878fd837",
   "metadata": {},
   "outputs": [],
   "source": [
    "class AnalysisBot:\n",
    "    def __init__(self, bot_id: str, software_version: str = \"1.0\"):\n",
    "        self.id = bot_id\n",
    "        self.version = software_version # A parameter with a default value\n",
    "        self.status = \"Idle\" # An attribute set directly to a default value in the constructor\n",
    "        self.data_logs = [] # Initialize with an empty list attribute\n",
    "\n",
    "    # A method that displays info about the object's own attributes\n",
    "    def display_status(self):\n",
    "        print(f\"Bot ID: {self.id}, Version: {self.version}, Status: {self.status}\")\n",
    "\n",
    "    # A method that changes an attribute of the object\n",
    "    def update_software(self, new_version: str):\n",
    "        self.version = new_version\n",
    "        print(f\"Bot {self.id} software has been updated to: {self.version}\")\n",
    "\n",
    "    # A simple method that performs an action without using other attributes\n",
    "    def run_self_diagnostic(self):\n",
    "        print(f\"Bot {self.id} is running a self-diagnostic sequence...\")\n",
    "\n",
    "    # A method that modifies one of the object's attributes (the list)\n",
    "    def log_data_packet(self, data_packet: str):\n",
    "        self.data_logs.append(data_packet)\n",
    "        print(f\"Bot {self.id} logged new data: '{data_packet}'\")\n",
    "\n",
    "    # A method for interaction between two objects of the same class\n",
    "    # 'self' is the object the method is called on.\n",
    "    # 'other_bot_1' and 'other_bot_2' are other objects passed as arguments.\n",
    "    def sync_with_team(self, other_bot_1, other_bot_2): \n",
    "        print(f\"Bot {self.id} is syncing data with Bot {other_bot_1.id} and Bot {other_bot_2.id}.\")\n",
    "\n",
    "\n",
    "\"\"\"\n",
    "Testing the AnalysisBot class\n",
    "\"\"\"\n",
    "\n",
    "bot_A = AnalysisBot(\"AB-01\", software_version=\"1.2\")\n",
    "bot_B = AnalysisBot(\"AB-02\") # Uses the default software_version \"1.0\"\n",
    "bot_C = AnalysisBot(\"AB-03\")\n",
    "\n",
    "# An object has its own methods that you can \"call\" just like functions\n",
    "bot_A.display_status()\n",
    "\n",
    "# Modifying the object's internal data using its methods\n",
    "bot_A.log_data_packet(\"Signal Anomaly Found\")\n",
    "bot_A.log_data_packet(\"Energy Fluctuation Detected\")\n",
    "print(f\"Bot {bot_A.id} Data Logs: {bot_A.data_logs}\")\n",
    "\n",
    "# An object's method that takes other objects as parameters\n",
    "bot_A.sync_with_team(bot_B, bot_C)"
   ]
  },
  {
   "cell_type": "markdown",
   "id": "52150eaf",
   "metadata": {},
   "source": [
    "## practise II \n",
    "\n",
    "**1. Create a `LabAssistant` Robot Class:**\n",
    "- The class should have the following attributes defined in its constructor: `robot_name`, `id_code`, `current_location`, and `known_protocols` (which should be initialized as an empty list).\n",
    "\n",
    "**2. Create Basic Methods:**\n",
    "- Create a method `report_status` that prints a message introducing the assistant by its name and current location.\n",
    "- Create a method `relocate` that updates the assistant's `current_location` attribute.\n",
    "- Create a method `learn_protocol` that adds a new protocol (a string) to the assistant's `known_protocols` list.\n",
    "\n",
    "**3. Challenge I: Interaction Method:**\n",
    "- Create a method `compare_skills` that allows an instance to interact with another instance of the `LabAssistant` class.\n",
    "- When called, both assistants should report how many protocols they know.\n",
    "- *Example Output:*\n",
    "  `\"Robot RX-1 knows 3 protocols.\"`\n",
    "  `\"Robot Z-5 knows 5 protocols.\"`\n",
    "  \n",
    "**4. Challenge II: Extended Interaction:**\n",
    "- Extend the `compare_skills` method from the previous challenge.\n",
    "- After reporting the number of protocols each assistant knows, the method should add a line that compares them and prints which one is more \"experienced\" (has more protocols).\n",
    "- *Example Output (continued from above):*\n",
    "  `\"Robot Z-5 is more experienced than Robot RX-1.\"`"
   ]
  },
  {
   "cell_type": "markdown",
   "id": "2731d8f5",
   "metadata": {},
   "source": [
    "---\n",
    "#### © Jiří Svoboda (George Freedom)\n",
    "- Web: https://GeorgeFreedom.com\n",
    "- LinkedIn: https://www.linkedin.com/in/georgefreedom/\n",
    "- Book me: https://cal.com/george-freedom-tech-mentor"
   ]
  }
 ],
 "metadata": {
  "kernelspec": {
   "display_name": "Python 3",
   "language": "python",
   "name": "python3"
  },
  "language_info": {
   "name": "python",
   "version": "3.13.1"
  }
 },
 "nbformat": 4,
 "nbformat_minor": 5
}
