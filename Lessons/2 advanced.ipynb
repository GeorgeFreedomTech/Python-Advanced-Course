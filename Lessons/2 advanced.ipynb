{
 "cells": [
  {
   "cell_type": "markdown",
   "id": "1c6fe24a",
   "metadata": {},
   "source": [
    "# 2. Encapsulation: Protecting an Object's Internal State\n",
    "\n",
    "Encapsulation is a core principle of Object-Oriented Programming (OOP). It involves bundling an object's data (attributes) and the methods that operate on that data into a single unit (the class). A key part of this is **hiding the object's complex internal workings** and exposing only a controlled, public interface.\n",
    "\n",
    "Think of an autonomous space probe. Its complex internal systems — like the flight computer, power core, and sensitive sensor arrays (`private state`) — are protected within a reinforced chassis. Mission Control interacts with the probe only through a secure, well-defined public communication interface (its `public methods`).\n",
    "\n",
    "- **Single Underscore `_attribute` (Protected by Convention):**\n",
    "    - An attribute starting with `_` is still accessible from outside the class.\n",
    "    - However, it signals to other developers: \"This is an internal part. You shouldn't touch this directly unless you know what you're doing.\" It's like a panel labeled **'For Authorized Engineers Only'**.\n",
    "\n",
    "- **Double Underscore `__attribute` (Private via Name Mangling):**\n",
    "    - An attribute starting with `__` has its name \"mangled\" by Python, making it difficult to access directly from outside. This is as close to \"private\" as Python gets.\n",
    "    - You should only access or modify it through the class's public methods. It's like a **sealed, classified data core** that can only be controlled via its official command interface."
   ]
  },
  {
   "cell_type": "code",
   "execution_count": null,
   "id": "586b480c",
   "metadata": {},
   "outputs": [],
   "source": [
    "class SpaceProbe:\n",
    "    def __init__(self, probe_id: str, mission_target: str):\n",
    "        self.id = probe_id # Public attribute\n",
    "        self.target = mission_target # Public attribute\n",
    "        self._internal_temp = 35.5 # Protected attribute\n",
    "        self.__encryption_key = \"x$#aG9_s3cr3t\" # Private attribute\n",
    "\n",
    "    # A public method to safely access a private attribute\n",
    "    def get_encrypted_data_packet(self, auth_code: str):\n",
    "        # In a real scenario, this would check the auth_code first\n",
    "        if auth_code == \"TOP_SECRET\":\n",
    "            # Some logic to encrypt data using the private key would go here\n",
    "            return f\"Encrypted_Data_Packet_using_key_({self.__encryption_key})\"\n",
    "        else:\n",
    "            return \"Authorization Denied.\"\n",
    "    \n",
    "    # A private method, intended only for use inside the class\n",
    "    def __calibrate_sensors(self):\n",
    "        print(\"...Internal calibration sequence running...\")\n",
    "        return True\n",
    "\n",
    "    # A public method that calls a private method\n",
    "    def run_self_check_sequence(self):\n",
    "        print(f\"Self-check requested for probe {self.id}...\")\n",
    "        calibration_success = self.__calibrate_sensors() # Call private method internally\n",
    "        if calibration_success:\n",
    "            print(\"Sensor calibration successful. All systems nominal.\")\n",
    "\n",
    "\n",
    "# --- Testing ---\n",
    "probe_voyager = SpaceProbe(\"Voyager-3\", \"Kepler-186f\")\n",
    "\n",
    "# Public attributes are freely accessible and modifiable\n",
    "print(f\"Probe ID: {probe_voyager.id}\")\n",
    "probe_voyager.target = \"TRAPPIST-1e\" # Change target\n",
    "print(f\"New Target: {probe_voyager.target}\")\n",
    "\n",
    "# Protected attributes are also accessible\n",
    "print(f\"Internal Temp (for diagnostics): {probe_voyager._internal_temp}\")\n",
    "\n",
    "# Private attributes are not directly accessible\n",
    "print(probe_voyager.__encryption_key) # This would raise an AttributeError\n",
    "\n",
    "# Accessing private data must be done via a public method\n",
    "print(probe_voyager.get_encrypted_data_packet(\"TOP_SECRET\"))\n",
    "\n",
    "# Private methods cannot be called directly from outside\n",
    "probe_voyager.__calibrate_sensors() # This would raise an AttributeError\n",
    "\n",
    "# Calling a private method via a public one is the correct way\n",
    "probe_voyager.run_self_check_sequence()"
   ]
  },
  {
   "cell_type": "markdown",
   "id": "3a018a3f",
   "metadata": {},
   "source": [
    "---\n",
    "#### © Jiří Svoboda (George Freedom)\n",
    "- Web: https://GeorgeFreedom.com\n",
    "- LinkedIn: https://www.linkedin.com/in/georgefreedom/\n",
    "- Book me: https://cal.com/george-freedom-tech-mentor"
   ]
  }
 ],
 "metadata": {
  "language_info": {
   "name": "python"
  }
 },
 "nbformat": 4,
 "nbformat_minor": 5
}
