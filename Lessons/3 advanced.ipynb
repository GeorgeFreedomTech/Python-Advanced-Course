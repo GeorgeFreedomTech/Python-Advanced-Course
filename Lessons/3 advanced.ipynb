{
 "cells": [
  {
   "cell_type": "markdown",
   "id": "5e3d6473",
   "metadata": {},
   "source": [
    "# 3. Getters, Setters, Deleters & @property: Controlled Interfaces\n",
    "\n",
    "When using encapsulation to hide an object's internal attributes (e.g., `_protected` or `__private`), we need a controlled way to access or modify them from outside the class. This is achieved using special methods known as \"getters\" (to get a value), \"setters\" (to set a new value), and \"deleters\" (to delete an attribute).\n",
    "\n",
    "- These methods allow you to add logic, **validation**, or permission checks before an attribute is read, changed, or deleted.\n",
    "- The `@property` decorator is a \"Pythonic\" way to use these methods as if they were simple attributes, creating a clean and intuitive public interface for your class. This hides the internal complexity, which is a core goal of encapsulation."
   ]
  },
  {
   "cell_type": "code",
   "execution_count": null,
   "id": "8cd18922",
   "metadata": {},
   "outputs": [],
   "source": [
    "class FusionReactor:\n",
    "    \n",
    "    def __init__(self, initial_temp: float):\n",
    "        self.__plasma_temperature = initial_temp # Private attribute\n",
    "\n",
    "    # The GETTER method\n",
    "    # The @property decorator turns the 'temperature' method into a read-only property.\n",
    "    @property\n",
    "    def temperature(self):\n",
    "        # In a real system, this might check authorization before returning the value\n",
    "        return self.__plasma_temperature # Access the private attribute\n",
    "\n",
    "    # The SETTER method\n",
    "    # This decorator is linked to the 'temperature' property and allows setting its value.\n",
    "    @temperature.setter\n",
    "    def temperature(self, new_temp: float):\n",
    "        # We add validation logic before changing the private attribute.\n",
    "        if 100_000_000 <= new_temp <= 200_000_000: # Example safe operational range in Kelvin\n",
    "            self.__plasma_temperature = new_temp\n",
    "        else:\n",
    "            print(\"DANGER: Unsafe temperature setting rejected. Fusion containment might fail.\")\n",
    "\n",
    "    # The DELETER method\n",
    "    # This decorator is linked to the 'temperature' property and allows deleting it.\n",
    "    @temperature.deleter\n",
    "    def temperature(self):\n",
    "        # Logic for a safe shutdown sequence could be here.\n",
    "        print(\"CRITICAL: Emergency SCRAM protocol initiated. Deleting plasma temperature data.\")\n",
    "        del self.__plasma_temperature\n",
    "\n",
    "\n",
    "# --- Testing ---\n",
    "tokamak_reactor = FusionReactor(150_000_000) # Initial temperature of 150 million Kelvin\n",
    "\n",
    "# -- Using the GETTER --\n",
    "print(tokamak_reactor.__plasma_temperature) # INACCESSIBLE - would raise AttributeError\n",
    "print(f\"Initial reactor temperature: {tokamak_reactor.temperature} K\") # Calls the getter method\n",
    "\n",
    "# -- Using the SETTER --\n",
    "tokamak_reactor.temperature = 160_000_000 # Calls the setter method\n",
    "print(f\"New reactor temperature: {tokamak_reactor.temperature} K\")\n",
    "\n",
    "# Trying to set an invalid (unsafe) value\n",
    "tokamak_reactor.temperature = 500 # This should trigger the safety check\n",
    "print(f\"Reactor temperature after unsafe attempt: {tokamak_reactor.temperature} K\") # Value remains unchanged\n",
    "\n",
    "# -- Using the DELETER --\n",
    "# Deleting it like an attribute calls the deleter method\n",
    "del tokamak_reactor.temperature\n",
    "print(tokamak_reactor.temperature) # Raises AttributeError as the attribute is deleted"
   ]
  },
  {
   "cell_type": "markdown",
   "id": "b9d31072",
   "metadata": {},
   "source": [
    "## 3.1. Summary\n",
    "- The `@property` decorator (and its associated `.setter` and `.deleter`) is primarily used to create a controlled, public interface for **private** attributes.\n",
    "- It allows you to execute validation or other logic when an attribute is accessed, while keeping the syntax for the user of the class clean and simple (e.g., `my_object.attribute = value`).\n",
    "- You don't need to invent different method names like `get_temp()` or `set_temp()`; the getter, setter, and deleter methods are all linked to the same property name (e.g., `temperature`).\n",
    "- While you can create similar methods for public attributes, the `@property` syntax is considered more elegant and \"Pythonic\" for managing controlled access to an object's state."
   ]
  },
  {
   "cell_type": "markdown",
   "id": "fbae6f35",
   "metadata": {},
   "source": [
    "## practice\n",
    "\n",
    "**Task: `Antenna` Calibration with Property Validation**\n",
    "- **Scenario:** You are designing a class to control a deep-space communication `Antenna`. Its horizontal orientation (azimuth) is a critical setting that must be kept within its physical rotation limits.\n",
    "- **Requirements:**\n",
    "    - Create a class named `Antenna`.\n",
    "    - It should have a \"protected\" attribute, e.g., `azimuth`, to store the current angle in degrees.\n",
    "    - Use the `@property` decorator to create an `azimuth` property for getting the attribute's value.\n",
    "    - Create a `setter` for the `azimuth` property. This setter must include **validation** to ensure the new angle is within the valid range of `0` to `360` degrees (inclusive). If the new value is outside this range, print an error message and do not change the `azimuth`.\n",
    "    - Add a standard method `get_status` that `returns` a formatted string, e.g., `\"Antenna pointing at 90.5 degrees azimuth.\"`.\n",
    "- **Testing:**\n",
    "    - Create an instance of `Antenna`.\n",
    "    - Set its initial azimuth to `90` using the property setter.\n",
    "    - Print its status.\n",
    "    - Try to set the azimuth to `400` degrees and verify that an error message is printed and the azimuth remains unchanged.\n",
    "    - Set the azimuth to a valid value like `270` and print the new status to verify the change was successful."
   ]
  },
  {
   "cell_type": "markdown",
   "id": "1d9f4c7f",
   "metadata": {},
   "source": [
    "---\n",
    "#### © Jiří Svoboda (George Freedom)\n",
    "- Web: https://GeorgeFreedom.com\n",
    "- LinkedIn: https://www.linkedin.com/in/georgefreedom/\n",
    "- Book me: https://cal.com/george-freedom-tech-mentor"
   ]
  }
 ],
 "metadata": {
  "kernelspec": {
   "display_name": "Python 3",
   "language": "python",
   "name": "python3"
  },
  "language_info": {
   "name": "python",
   "version": "3.13.1"
  }
 },
 "nbformat": 4,
 "nbformat_minor": 5
}
