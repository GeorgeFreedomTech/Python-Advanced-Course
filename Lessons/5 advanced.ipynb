{
 "cells": [
  {
   "cell_type": "markdown",
   "id": "a2ed525f",
   "metadata": {},
   "source": [
    "# 5. Polymorphism: One Interface, Many Forms\n",
    "\n",
    "Polymorphism, which means \"many forms,\" is a core OOP principle that is used with **inheritance**. It allows objects of different specialized classes (children) to respond to the exact same method call in their own unique, class-specific way.\n",
    "\n",
    "Imagine giving a general command like `perform_task()` to a squad of different autonomous units: a security bot might start its patrol, while a medical bot begins scanning for life signs, and a maintenance bot starts repairing a system. The command `perform_task()` is the same for all, but the action performed is specific to the unit's type. This is the power of polymorphism.\n",
    "\n",
    "- It relies on **method overriding**, where a child class redefines a method it inherited from its parent.\n",
    "- The method name (and thus how you call it) remains the same across different classes in the hierarchy."
   ]
  },
  {
   "cell_type": "code",
   "execution_count": null,
   "id": "1f3df56b",
   "metadata": {},
   "outputs": [],
   "source": [
    "class AutonomousUnit: # The parent class\n",
    "    def __init__(self, unit_id: str, status: str = \"Standby\"):\n",
    "        self.id = unit_id\n",
    "        self.status = status\n",
    "    \n",
    "    def report_status(self): # Generic method\n",
    "        print(f\"Unit {self.id} is currently in status: {self.status}.\")\n",
    "\n",
    "class SecurityBot(AutonomousUnit): # A child class \n",
    "    def __init__(self, unit_id: str, status: str, patrol_zone: str):\n",
    "        super().__init__(unit_id, status)\n",
    "        self.patrol_zone = patrol_zone # Add a specific attribute\n",
    "\n",
    "    # Method Overriding: This child class redefines the 'report_status' method inherited from its parent.\n",
    "    # It has the same name, but a different, more specialized implementation.\n",
    "    def report_status(self):\n",
    "        print(f\"Security Bot {self.id} is actively patrolling zone: {self.patrol_zone}.\")\n",
    "\n",
    "class MaintenanceBot(AutonomousUnit): # Another child class\n",
    "    def __init__(self, unit_id: str, status: str, assigned_task: str):\n",
    "        super().__init__(unit_id, status)\n",
    "        self.task = assigned_task\n",
    "\n",
    "    # This child also overrides the parent's method\n",
    "    def report_status(self):\n",
    "        print(f\"Maintenance Bot {self.id} is currently performing task: {self.task}.\")\n",
    "\n",
    "\n",
    "# --- Testing ---\n",
    "generic_unit = AutonomousUnit(\"Unit-001\")\n",
    "security_unit = SecurityBot(\"SEC-007\", \"Active\", \"Sector 7G\")\n",
    "maintenance_unit = MaintenanceBot(\"MAIN-003\", \"Active\", \"Repairing Life Support\")\n",
    "\n",
    "deployment_squad = [generic_unit, security_unit, maintenance_unit]\n",
    "\n",
    "print(\"--- Squad Status Report ---\")\n",
    "for unit in deployment_squad:\n",
    "    # Python automatically calls the specific version of .report_status()\n",
    "    # based on the object's actual class (generic, security, or maintenance).\n",
    "    unit.report_status()"
   ]
  },
  {
   "cell_type": "markdown",
   "id": "d9079e94",
   "metadata": {},
   "source": [
    "## practice\n",
    "\n",
    "**Task: `PlanetaryProbe` Specialization**\n",
    "- **Scenario:** You are designing a system to manage different types of planetary probes for an exploration mission. All probes share some common actions but perform them differently based on their design.\n",
    "- **Requirements:**\n",
    "    - Create a base (parent) class named `PlanetaryProbe` with two methods:\n",
    "        - `traverse`: This method should print a generic message like `\"Probe is moving across terrain.\"`\n",
    "        - `emit_signal`: This method should print a generic message like `\"Emitting standard data pulse.\"`\n",
    "    - Create three child classes that inherit from `PlanetaryProbe`: `WheeledProbe`, `WalkingProbe`, and `FlyingProbe`.\n",
    "    - In each of the three child classes, **override** both the `traverse` and `emit_signal` methods to provide a specific implementation that fits the probe type.\n",
    "        - For example, `WheeledProbe` could print `\"Rolling across terrain...\"`, while `FlyingProbe` prints `\"Flying over terrain...\"`.\n",
    "        - Similarly, `WalkingProbe` could print `\"Sending seismic vibration data.\"`, while `FlyingProbe` prints `\"Sending high-resolution aerial scan data.\"`.\n",
    "- **Testing:**\n",
    "    - Create one instance of each of your specialized probe classes (`WheeledProbe`, `WalkingProbe`, `FlyingProbe`).\n",
    "    - Call the `traverse` and `emit_signal` methods on each probe. Observe how each object executes its own version of the method."
   ]
  },
  {
   "cell_type": "markdown",
   "id": "e5790e34",
   "metadata": {},
   "source": [
    "---\n",
    "#### © Jiří Svoboda (George Freedom)\n",
    "- Web: https://GeorgeFreedom.com\n",
    "- LinkedIn: https://www.linkedin.com/in/georgefreedom/\n",
    "- Book me: https://cal.com/georgefreedom"
   ]
  }
 ],
 "metadata": {
  "kernelspec": {
   "display_name": "Python 3",
   "language": "python",
   "name": "python3"
  },
  "language_info": {
   "name": "python",
   "version": "3.13.1"
  }
 },
 "nbformat": 4,
 "nbformat_minor": 5
}
