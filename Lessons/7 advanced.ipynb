{
 "cells": [
  {
   "cell_type": "markdown",
   "id": "18fef269",
   "metadata": {},
   "source": [
    "# 7. Documentation: Creating Manuals for Your Code\n",
    "\n",
    "Just as every complex piece of exploration gear needs a user manual and technical specifications, every well-written piece of Python code needs clear documentation. Good documentation explains what your code does, how to use it, and why it was designed that way. In Python, the primary way to document your code directly is by using **docstrings**.\n",
    "\n",
    "- A docstring should be created for:\n",
    "    - Every public `module` (at the very top of the `.py` file).\n",
    "    - Every public `class`.\n",
    "    - Every public `method` (function within a class).\n",
    "- By convention, a docstring is a string literal that occurs as the **first statement** within the object it documents, enclosed in triple quotes `\"\"\"...\"\"\"`.\n",
    "\n",
    "- Docstrings are used by the `help()` function and the `pydoc` module.\n",
    "- For a quick overview we can use `dir()` function to see all the methods and attributes of an object."
   ]
  },
  {
   "cell_type": "code",
   "execution_count": null,
   "id": "1ec629cb",
   "metadata": {},
   "outputs": [],
   "source": [
    "# Imagine this code is in a file `probe_toolkit.py`\n",
    "\n",
    "\"\"\"\n",
    "probe_toolkit.py - A module providing blueprints for autonomous probes.\n",
    "\n",
    "This module contains classes for creating and managing different types of\n",
    "autonomous exploration probes and their core functionalities. It serves as a\n",
    "basic library for mission simulation tasks.\n",
    "\"\"\"\n",
    "\n",
    "\n",
    "class AutonomousProbe:\n",
    "    \"\"\"\n",
    "    Represents a generic autonomous exploration probe.\n",
    "    \n",
    "    This class serves as a basic blueprint for probes, defining\n",
    "    common attributes and methods related to their identity and core functions.\n",
    "    \"\"\"\n",
    "    \n",
    "    def __init__(self, probe_id: str):\n",
    "        \"\"\"\n",
    "        Initializes the AutonomousProbe instance.\n",
    "\n",
    "        Args:\n",
    "            probe_id (str): The unique identifier for the probe, e.g., \"XP-01\".\n",
    "        \"\"\"\n",
    "        self.id = probe_id\n",
    "\n",
    "    def transmit_ping(self):\n",
    "        \"\"\"\n",
    "        Sends a standard 'I am active' ping to mission control.\n",
    "        \n",
    "        This method is a basic liveness check for the probe and confirms\n",
    "        its ID. It does not return any value.\n",
    "        \"\"\"\n",
    "        print(f\"Ping from {self.id}: Active and nominal.\")\n",
    "\n",
    "\n",
    "# --- Testing ---\n",
    "# First, we create an instance of our class to work with\n",
    "probe1 = AutonomousProbe(\"XP-01\")\n",
    "\n",
    "# We can use the built-in help() function to view the documentation.\n",
    "help(probe1.transmit_ping) # Shows the docstring for the method\n",
    "help(AutonomousProbe) # Shows the docstrings for the class\n",
    "\n",
    "# Note: If this code was in `probe_toolkit.py` and we imported it in another file:\n",
    "# import probe_toolkit\n",
    "# help(probe_toolkit) # Will show the module-level docstring at the top of the file.\n",
    "\n",
    "dir(probe1) # Shows all the attributes and methods of the object"
   ]
  },
  {
   "cell_type": "markdown",
   "id": "c02336ad",
   "metadata": {},
   "source": [
    "## practice\n",
    "\n",
    "**Task: Documenting Your Classes**\n",
    "- Choose one of the classes you created in a previous lesson's exercises (e.g., `PowerCore`, `LabAssistant`, `Spaceship`, or `ChiefEngineer`).\n",
    "- Add clear and concise **docstrings** for:\n",
    "    - The class itself, explaining its purpose (e.g., what it represents or manages).\n",
    "    - The methods explaining its parameters, what the method does and what it might return.\n",
    "\n",
    "---\n",
    "\n",
    "**Challenge: Module-Level Documentation**\n",
    "- Take the class you just documented and save its code into its own Python file (e.g., `power_core_module.py`).\n",
    "- At the very top of this new file add a **module-level docstring** that explains the overall purpose of the file.\n",
    "- In a *separate* main script file, `import` your new module.\n",
    "- Use the `help()` function on the *module itself* to verify that the module docstring is displayed correctly."
   ]
  },
  {
   "cell_type": "markdown",
   "id": "3b6a6f25",
   "metadata": {},
   "source": [
    "---\n",
    "#### © Jiří Svoboda (George Freedom)\n",
    "- Web: https://GeorgeFreedom.com\n",
    "- LinkedIn: https://www.linkedin.com/in/georgefreedom/\n",
    "- Book me: https://cal.com/george-freedom-tech-mentor"
   ]
  }
 ],
 "metadata": {
  "language_info": {
   "name": "python"
  }
 },
 "nbformat": 4,
 "nbformat_minor": 5
}
