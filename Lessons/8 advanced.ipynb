{
 "cells": [
  {
   "cell_type": "markdown",
   "id": "131458be",
   "metadata": {},
   "source": [
    "# 8. Dunder Methods: Customizing Core Object Behavior\n",
    "\n",
    "Dunder methods (short for **d**ouble **under**score methods) are special, predefined methods in Python, recognizable by the double underscores surrounding their names (e.g., `__init__`, `__str__`). They are also sometimes called \"magic methods.\"\n",
    "\n",
    "These methods allow you to define how your custom objects interact with Python's built-in operations and functions. They are called automatically by the interpreter in specific contexts, such as when you use operators (`+`, `==`), call functions (`len()`, `print()`), or access attributes. By overriding these methods, you can customize the core behavior of your objects – it's like programming the fundamental physics of how they exist and interact in your code."
   ]
  },
  {
   "cell_type": "markdown",
   "id": "5b2ebae0",
   "metadata": {},
   "source": [
    "## 8.1. Selection of most common dunder methods"
   ]
  },
  {
   "cell_type": "code",
   "execution_count": null,
   "id": "660e3d92",
   "metadata": {},
   "outputs": [],
   "source": [
    "\"\"\" Object Lifecycle Methods \"\"\"\n",
    "\n",
    "# __new__(cls, ...)\n",
    "# Called to *create* a new instance of a class. It's the very first step.\n",
    "\n",
    "# __init__(self, ...)\n",
    "# Called right after the instance is created (by __new__), to *initialize* its attributes.\n",
    "\n",
    "# __del__(self) \n",
    "# The destructor, called when an object is about to be destroyed (e.g., when its reference count drops to zero).\n",
    "\n",
    "# __repr__(self) \n",
    "# Returns an \"official\", unambiguous string representation of the object, often one that can be used to recreate the object."
   ]
  },
  {
   "cell_type": "code",
   "execution_count": null,
   "id": "e70bc679",
   "metadata": {},
   "outputs": [],
   "source": [
    "\"\"\" Comparison Methods \"\"\"\n",
    "\n",
    "# __eq__(self, other): Called for the equality operator `==`.\n",
    "# __ne__(self, other): Called for the inequality operator `!=`.\n",
    "# __lt__(self, other): Called for the less than operator `<`.\n",
    "# __le__(self, other): Called for the less than or equal to operator `<=`.\n",
    "# __gt__(self, other): Called for the greater than operator `>`.\n",
    "# __ge__(self, other): Called for the greater than or equal to operator `>=`."
   ]
  },
  {
   "cell_type": "code",
   "execution_count": null,
   "id": "1a40e3e9",
   "metadata": {},
   "outputs": [],
   "source": [
    "\"\"\" Truthiness Methods \"\"\"\n",
    "\n",
    "# __hash__(self)\n",
    "# Returns an integer hash value for the object. Objects with the same value should have the same hash.\n",
    "\n",
    "# __bool__(self)\n",
    "# Called by `bool(object)`. Returns `True` or `False`. Used in conditional checks."
   ]
  },
  {
   "cell_type": "code",
   "execution_count": null,
   "id": "53bf8e7d",
   "metadata": {},
   "outputs": [],
   "source": [
    "\"\"\" Mathematical Methods \"\"\"\n",
    "\n",
    "# __add__(self, other): Addition `+`\n",
    "# __sub__(self, other): Subtraction `-`\n",
    "# __mul__(self, other): Multiplication `*`\n",
    "# __truediv__(self, other): Division `/`\n",
    "# __floordiv__(self, other): Floor Division `//`\n",
    "# __mod__(self, other): Modulo `%`\n",
    "# __pow__(self, other): Power `**`"
   ]
  },
  {
   "cell_type": "code",
   "execution_count": null,
   "id": "df9201ee",
   "metadata": {},
   "outputs": [],
   "source": [
    "\"\"\" Collection Emulation Methods \"\"\"\n",
    "\n",
    "# __len__(self) Called by `len(object)`. Returns the length of the collection.\n",
    "# __getitem__(self, key) Called for accessing an item using `[]`, e.g., `my_object[key]`.\n",
    "# __setitem__(self, key, value) Called for assigning an item using `[]`, e.g., `my_object[key] = value`.\n",
    "# __delitem__(self, key) Called for deleting an item using `[]`, e.g., `del my_object[key]`.\n",
    "# __contains__(self, item) Called for membership testing using `in`, e.g., `item in my_object`."
   ]
  },
  {
   "cell_type": "code",
   "execution_count": null,
   "id": "c0f29297",
   "metadata": {},
   "outputs": [],
   "source": [
    "\"\"\" Type Conversion Methods \"\"\" \n",
    "\n",
    "# __str__(self): Called by `str()` and `print()`. Should return a user-friendly string representation of the object.\n",
    "# __int__(self): Called by `int()`. Should return an integer representation of the object.\n",
    "# __float__(self): Called by `float()`. Should return a floating-point representation of the object."
   ]
  },
  {
   "cell_type": "markdown",
   "id": "3fab74bb",
   "metadata": {},
   "source": [
    "## 8.2. Overriding Dunder Methods in Practice\n",
    "Overriding (redefining) a dunder method in your own class is a form of **polymorphism**. It allows you to define how your custom objects should behave with standard Python operators and functions, such as how they should be added together (`__add__`), compared (`__eq__`), or displayed (`__str__`).\n",
    "The syntax is simply `object.method()` or the operator/function that calls it implicitly."
   ]
  },
  {
   "cell_type": "code",
   "execution_count": null,
   "id": "843cd8c9",
   "metadata": {},
   "outputs": [],
   "source": [
    "# --- Overriding __str__() and __int__() ---\n",
    "\n",
    "class DataPacket:\n",
    "    def __init__(self, id_code: int):\n",
    "        self.id = id_code\n",
    "\n",
    "    # __str__ defines the user-friendly string representation of the object.\n",
    "    # If not overridden, print(object) would only show a memory address.\n",
    "    def __str__(self):\n",
    "        return f\"DataPacket (ID: {self.id})\"\n",
    "\n",
    "    # __int__ defines the integer representation of the object.\n",
    "    def __int__(self):\n",
    "        return self.id\n",
    "\n",
    "test_packet = DataPacket(999)\n",
    "print(test_packet) # Calls __str__ -> DataPacket (ID: 999)\n",
    "\n",
    "packet_id_as_int = int(test_packet) # The return value (999) is assigned\n",
    "print(packet_id_as_int) # -> 999\n",
    "\n",
    "\n",
    "# --- Overriding __getitem__() ---\n",
    "class LogArchive:\n",
    "    def __init__(self):\n",
    "        self.entries = []\n",
    "\n",
    "    def add_entry(self, entry):\n",
    "        self.entries.append(entry)\n",
    "\n",
    "    # Overriding the method for accessing items via index `[]`\n",
    "    def __getitem__(self, index):\n",
    "        # Example of custom logic: let's say our indexing is off-by-one for some reason\n",
    "        print(f\"(Custom __getitem__ called with index {index})\")\n",
    "        return self.entries[index - 1] # Custom logic: returns item at index-1\n",
    "\n",
    "\n",
    "# --- Testing ---\n",
    "log = LogArchive()\n",
    "log.add_entry(\"Log Entry A\")\n",
    "log.add_entry(\"Log Entry B\")\n",
    "\n",
    "print(log[1]) # Calls __getitem__(1), returns item at index 0 -> \"Log Entry A\""
   ]
  },
  {
   "cell_type": "code",
   "execution_count": null,
   "id": "eac1ee3f",
   "metadata": {},
   "outputs": [],
   "source": [
    "# --- Overriding __str__() and __repr__() ---\n",
    "\n",
    "class ProbeBlueprint:\n",
    "    def __init__(self, model_name: str, mass_kg: int, cost: int):\n",
    "        self.model = model_name\n",
    "        self.mass = mass_kg\n",
    "        self.cost = cost\n",
    "        \n",
    "    # __str__ is for a user-friendly, readable string representation (e.g., for print())\n",
    "    def __str__(self):\n",
    "        return f\"Blueprint for Model: {self.model}, Mass: {self.mass}kg, Cost: ${self.cost:,}\"\n",
    "    \n",
    "    # __repr__ is for an unambiguous, \"official\" string representation.\n",
    "    # Ideally, a developer could copy this output to recreate the object.\n",
    "    def __repr__(self):\n",
    "        return f\"ProbeBlueprint('{self.model}', {self.mass}, {self.cost})\"\n",
    "\n",
    "\n",
    "# --- Testing ---\n",
    "blueprint_A = ProbeBlueprint(\"ReconScout v3\", 150, 1_200_000)\n",
    "print(blueprint_A) # Calls __str__\n",
    "\n",
    "representation_string = repr(blueprint_A) # Gets the official representation\n",
    "print(f\"Official Representation: {representation_string}\")\n",
    "\n",
    "# Creating a copy using eval(repr(object))\n",
    "# WARNING: eval() is powerful and UNSAFE. It executes any string as Python code.\n",
    "blueprint_B = eval(representation_string)\n",
    "print(f\"Copied Object: {blueprint_B}\") # Calls __str__ on the new object\n",
    "\n",
    "# -- Comparing the two objects --\n",
    "print(f\"\\nTypes are same: {type(blueprint_A) == type(blueprint_B)}\") # -> True\n",
    "print(f\"Models are same: {blueprint_A.model == blueprint_B.model}\") # -> True\n",
    "print(f\"Masses are same: {blueprint_A.mass == blueprint_B.mass}\") # -> True\n",
    "print(f\"Costs are same: {blueprint_A.cost == blueprint_B.cost}\") # -> True\n",
    "\n",
    "# '==' on custom objects compares identity - whether they are the same object in memory\n",
    "print(f\"Values are same (==): {blueprint_A == blueprint_B}\") # -> False\n",
    "print(f\"Identities are same (is): {blueprint_A is blueprint_B}\") # -> False\n",
    "\n",
    "print(f\"ID of blueprint_A: {id(blueprint_A)}\") # Different IDs\n",
    "print(f\"ID of blueprint_B: {id(blueprint_B)}\")"
   ]
  },
  {
   "cell_type": "markdown",
   "id": "e1fbba14",
   "metadata": {},
   "source": [
    "## practice\n",
    "\n",
    "**Task: Create a `Specialist` Class**\n",
    "- **Scenario:** You are creating a class to represent a specialist operative on your team.\n",
    "- **Requirements:**\n",
    "    - Create a class named `Specialist` with the attributes: `name`, `profession`, and `skill_level` (an integer).\n",
    "    - Override the appropriate dunder methods to achieve the following behavior:\n",
    "        - When an object of the class is printed (`print`), it should display a user-friendly string with information about all its attributes.\n",
    "        - When an object of the class is converted to an integer (`int`), it should return the specialist's unique `skill_level`.\n",
    "\n",
    "---\n",
    "\n",
    "**Challenge I: Replicable Profile**\n",
    "- Using the same `Specialist` class, override the `__repr__()` method so you can create an identical copy of a `Specialist` object.\n",
    "\n",
    "---\n",
    "\n",
    "**Challenge II: Skill Level Arithmetic**\n",
    "- Still in the `Specialist` class, override the appropriate dunder methods to allow two `Specialist` objects to be added (`+`) and subtracted (`-`).\n",
    "- The addition or subtraction should operate on their `skill_level` attributes, returning a new integer result."
   ]
  },
  {
   "cell_type": "markdown",
   "id": "b916cbdd",
   "metadata": {},
   "source": [
    "---\n",
    "#### © Jiří Svoboda (George Freedom)\n",
    "- Web: https://GeorgeFreedom.com\n",
    "- LinkedIn: https://www.linkedin.com/in/georgefreedom/\n",
    "- Book me: https://cal.com/georgefreedom"
   ]
  }
 ],
 "metadata": {
  "language_info": {
   "name": "python"
  }
 },
 "nbformat": 4,
 "nbformat_minor": 5
}
