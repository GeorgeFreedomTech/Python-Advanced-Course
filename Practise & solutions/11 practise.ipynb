{
 "cells": [
  {
   "cell_type": "markdown",
   "id": "1fe331f9",
   "metadata": {},
   "source": [
    "## practice\n",
    "\n",
    "**Task: Create a Performance Logging Decorator**\n",
    "- **Scenario:** You need a standard way to log the start, end, and execution time of various critical functions in your mission control software.\n",
    "- **Requirements:**\n",
    "    - Create any simple function(s) to simulate a task / work.\n",
    "    - Create a decorator named `log_to_file`.\n",
    "    - This decorator should perform the following actions and write them to a file named `execution.log`:\n",
    "        1.  **Before** calling the wrapped function, it should write a line to the file, e.g., `\"--- Function 'process_data' started at <timestamp> ---\"`.\n",
    "        2.  **After** the function completes, it should write another line to the file, e.g., `\"--- Function 'process_data' finished at <timestamp>. Duration: X.XXXX seconds ---\"`.\n",
    "- **Testing:**\n",
    "    - Apply your `@log_to_file` decorator to your function(s).\n",
    "    - Call the decorated function(s).\n",
    "    - Check the contents of `execution.log` to verify that both the start and end log entries were written correctly, including the timestamps and calculated duration."
   ]
  },
  {
   "cell_type": "markdown",
   "id": "41993c11",
   "metadata": {},
   "source": [
    "## Solutions\n",
    "- **Try First:** Only look at the solutions after you have tried solving the exercises `using your own effort` and are truly stuck.\n",
    "- **Multiple Solutions Exist:** `There are usually multiple ways to solve a task.` The code provided is just one possible approach.\n",
    "- **Focus on the Concept:** Please note that the code in these solutions is **intentionally simplified** to focus purely on the **currently discussed topic**. To maintain clarity and avoid distraction, the code often omits production-level features like comprehensive error handling (`try-except` blocks), type hints or full documentation (`docstrings`). The primary goal is to illustrate the core concept being taught, not to present production-quality code."
   ]
  },
  {
   "cell_type": "code",
   "execution_count": null,
   "id": "6285ba47",
   "metadata": {},
   "outputs": [],
   "source": [
    "import time\n",
    "import datetime\n",
    "\n",
    "def log_to_file(func):\n",
    "\n",
    "    def wrapper(*args, **kwargs):\n",
    "        # 1. Actions before the original function is called\n",
    "        start_time = time.time()\n",
    "        start_timestamp = datetime.datetime.now().strftime(\"%Y-%m-%d %H:%M:%S\")\n",
    "        log_start_entry = f\"--- Function '{func.__name__}' started at {start_timestamp} ---\\n\"\n",
    "        \n",
    "        with open(\"execution.log\", \"a\", encoding=\"utf-8\") as log_file:\n",
    "            log_file.write(log_start_entry)\n",
    "\n",
    "        # 2. Call the original function\n",
    "        result = func(*args, **kwargs)\n",
    "\n",
    "        # 3. Actions after the original function completes\n",
    "        end_time = time.time()\n",
    "        end_timestamp = datetime.datetime.now().strftime(\"%Y-%m-%d %H:%M:%S\")\n",
    "        duration = end_time - start_time\n",
    "        log_end_entry = f\"--- Function '{func.__name__}' finished at {end_timestamp}. Duration: {duration:.4f} seconds ---\\n\\n\"\n",
    "\n",
    "        with open(\"execution.log\", \"a\", encoding=\"utf-8\") as log_file:\n",
    "            log_file.write(log_end_entry)\n",
    "\n",
    "        return result\n",
    "    return wrapper\n",
    "\n",
    "\n",
    "# Decorate the functions\n",
    "@log_to_file\n",
    "def process_data_batch(batch_size: int):\n",
    "    \"\"\"Simulates processing a batch of data.\"\"\"\n",
    "    print(\"Processing a batch of data records...\")\n",
    "    time.sleep(1) # Simulate work\n",
    "    print(\"Batch processing complete.\")\n",
    "    return \"Success\"\n",
    "\n",
    "@log_to_file\n",
    "def run_quick_scan():\n",
    "    \"\"\"Simulates a very quick task.\"\"\"\n",
    "    print(\"Performing a quick system scan...\")\n",
    "    time.sleep(0.5)\n",
    "    print(\"Scan complete.\")\n",
    "\n",
    "\n",
    "# Testing\n",
    "process_data_batch(batch_size=5000)\n",
    "run_quick_scan()\n",
    "\n",
    "print(\"\\nExecution logged. Please check the contents of the 'execution.log' file.\")\n"
   ]
  },
  {
   "cell_type": "markdown",
   "id": "01bcb47a",
   "metadata": {},
   "source": [
    "---\n",
    "#### © Jiří Svoboda (George Freedom)\n",
    "- Web: https://GeorgeFreedom.com\n",
    "- LinkedIn: https://www.linkedin.com/in/georgefreedom/\n",
    "- Book me: https://cal.com/george-freedom-tech-mentor"
   ]
  }
 ],
 "metadata": {
  "language_info": {
   "name": "python"
  }
 },
 "nbformat": 4,
 "nbformat_minor": 5
}
