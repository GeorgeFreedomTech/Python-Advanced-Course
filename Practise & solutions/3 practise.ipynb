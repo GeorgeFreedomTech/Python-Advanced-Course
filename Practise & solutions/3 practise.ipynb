{
 "cells": [
  {
   "cell_type": "markdown",
   "id": "69e8cf67",
   "metadata": {},
   "source": [
    "## practice\n",
    "\n",
    "**Task: `Antenna` Calibration with Property Validation**\n",
    "- **Scenario:** You are designing a class to control a deep-space communication `Antenna`. Its horizontal orientation (azimuth) is a critical setting that must be kept within its physical rotation limits.\n",
    "- **Requirements:**\n",
    "    - Create a class named `Antenna`.\n",
    "    - It should have a \"protected\" attribute, e.g., `azimuth`, to store the current angle in degrees.\n",
    "    - Use the `@property` decorator to create an `azimuth` property for getting the attribute's value.\n",
    "    - Create a `setter` for the `azimuth` property. This setter must include **validation** to ensure the new angle is within the valid range of `0` to `360` degrees (inclusive). If the new value is outside this range, print an error message and do not change the `azimuth`.\n",
    "    - Add a standard method `get_status` that `returns` a formatted string, e.g., `\"Antenna pointing at 90.5 degrees azimuth.\"`.\n",
    "- **Testing:**\n",
    "    - Create an instance of `Antenna`.\n",
    "    - Set its initial azimuth to `90` using the property setter.\n",
    "    - Print its status.\n",
    "    - Try to set the azimuth to `400` degrees and verify that an error message is printed and the azimuth remains unchanged.\n",
    "    - Set the azimuth to a valid value like `270` and print the new status to verify the change was successful."
   ]
  },
  {
   "cell_type": "markdown",
   "id": "e3d32fd0",
   "metadata": {},
   "source": [
    "## Solutions\n",
    "- **Try First:** Only look at the solutions after you have tried solving the exercises `using your own effort` and are truly stuck.\n",
    "- **Multiple Solutions Exist:** `There are usually multiple ways to solve a task.` The code provided is just one possible approach.\n",
    "- **Focus on the Concept:** Please note that the code in these solutions is **intentionally simplified** to focus purely on the **currently discussed topic**. To maintain clarity and avoid distraction, the code often omits production-level features like comprehensive error handling (`try-except` blocks), type hints or full documentation (`docstrings`). The primary goal is to illustrate the core concept being taught, not to present production-quality code."
   ]
  },
  {
   "cell_type": "code",
   "execution_count": null,
   "id": "bee9614f",
   "metadata": {},
   "outputs": [],
   "source": [
    "class Antenna:\n",
    "    def __init__(self, initial_azimuth: float = 0):\n",
    "        if 0 <= initial_azimuth <= 360: # Basic validation\n",
    "            self._azimuth = initial_azimuth\n",
    "        else:\n",
    "            self._azimuth = 0 # Default to a safe value if initial is invalid\n",
    "\n",
    "    @property\n",
    "    def azimuth(self):\n",
    "        return self._azimuth\n",
    "\n",
    "    @azimuth.setter\n",
    "    def azimuth(self, new_azimuth: float):\n",
    "        if 0 <= new_azimuth <= 360: # Basic validation of the new value\n",
    "            self._azimuth = new_azimuth\n",
    "        else:\n",
    "            print(f\"Error: Azimuth {new_azimuth} is outside the valid range (0-360). Command rejected.\")\n",
    "\n",
    "    def get_status(self) -> str:\n",
    "        return f\"Antenna pointing at {self.azimuth} degrees azimuth.\"\n",
    "\n",
    "\n",
    "# --- Testing Block ---\n",
    "print(\"--- Testing Antenna ---\")\n",
    "main_antenna = Antenna() # Starts at default 0\n",
    "\n",
    "main_antenna.azimuth = 90\n",
    "print(main_antenna.get_status())\n",
    "\n",
    "main_antenna.azimuth = 400 # Rejects invalid value\n",
    "print(f\"Current azimuth after invalid attempt: {main_antenna.azimuth}\") # Verify it hasn't changed\n",
    "\n",
    "print(\"\\nSetting a new valid azimuth...\")\n",
    "main_antenna.azimuth = 270\n",
    "print(main_antenna.get_status()) # Verify the change was successful"
   ]
  },
  {
   "cell_type": "markdown",
   "id": "e9a88c49",
   "metadata": {},
   "source": [
    "---\n",
    "#### © Jiří Svoboda (George Freedom)\n",
    "- Web: https://GeorgeFreedom.com\n",
    "- LinkedIn: https://www.linkedin.com/in/georgefreedom/\n",
    "- Book me: https://cal.com/georgefreedom"
   ]
  }
 ],
 "metadata": {
  "kernelspec": {
   "display_name": "Python 3",
   "language": "python",
   "name": "python3"
  },
  "language_info": {
   "name": "python",
   "version": "3.13.1"
  }
 },
 "nbformat": 4,
 "nbformat_minor": 5
}
