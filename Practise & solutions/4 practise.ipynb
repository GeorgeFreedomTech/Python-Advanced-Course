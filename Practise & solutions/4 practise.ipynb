{
 "cells": [
  {
   "cell_type": "markdown",
   "id": "a7a4fe75",
   "metadata": {},
   "source": [
    "## practice\n",
    "\n",
    "**Task: `CrewMember` Hierarchy**\n",
    "- **Scenario:** You are building a system to manage crew on an exploration starship. You need to model different roles, which share common human traits but also have specialized responsibilities and data.\n",
    "- **Part 1: Parent and Child**\n",
    "    - Start with a base class `CrewMember` that has attributes like `name` and `id_number`.\n",
    "    - Create a child class `Engineer` that inherits from `CrewMember`. An engineer should have an additional attribute: `specialization` (e.g., \"Warp Core\", \"Life Support\").\n",
    "    - Add a method to the `Engineer` class to display their specialization.\n",
    "- **Part 2: Challenge (Grandchild Class)**\n",
    "    - Create a class `ChiefEngineer` that inherits from `Engineer`. This class should have an additional attribute: `team_members`.\n",
    "    - Add a method to `ChiefEngineer` called `add_team_member` that allows adding `Engineer` objects to the `team_members` list.\n",
    "    - Add a constraint to this method: a `ChiefEngineer` can have a maximum of **5** direct subordinates. If you try to add more, it should print a warning message like `\"Maximum team size reached. Cannot add more members.\"` and not add the engineer.\n",
    "- **Testing:**\n",
    "    - Create a `ChiefEngineer` instance.\n",
    "    - Create several `Engineer` instances.\n",
    "    - Use the `add_team_member` method to add them to the chief's team.\n",
    "    - Test the limit by trying to add a 6th engineer and verify the warning is printed."
   ]
  },
  {
   "cell_type": "markdown",
   "id": "5bd49c48",
   "metadata": {},
   "source": [
    "## Solutions\n",
    "- **Try First:** Only look at the solutions after you have tried solving the exercises `using your own effort` and are truly stuck.\n",
    "- **Multiple Solutions Exist:** `There are usually multiple ways to solve a task.` The code provided is just one possible approach.\n",
    "- **Focus on the Concept:** Please note that the code in these solutions is **intentionally simplified** to focus purely on the **currently discussed topic**. To maintain clarity and avoid distraction, the code often omits production-level features like comprehensive error handling (`try-except` blocks), type hints or full documentation (`docstrings`). The primary goal is to illustrate the core concept being taught, not to present production-quality code."
   ]
  },
  {
   "cell_type": "code",
   "execution_count": null,
   "id": "1741e9e0",
   "metadata": {},
   "outputs": [],
   "source": [
    "# 1.\n",
    "class CrewMember:\n",
    "    def __init__(self, name: str, id_number: str):\n",
    "        self.name = name\n",
    "        self.id_number = id_number\n",
    "\n",
    "class Engineer(CrewMember):\n",
    "    def __init__(self, name: str, id_number: str, specialization: str):\n",
    "        # Initialize the parent class attributes\n",
    "        super().__init__(name, id_number)\n",
    "        # Add the attribute specific to the Engineer class\n",
    "        self.specialization = specialization\n",
    "    \n",
    "    def display_specialization(self):\n",
    "        print(f\"Engineer {self.name} (ID: {self.id_number}) specializes in {self.specialization}.\")\n",
    "\n",
    "# 2.\n",
    "class ChiefEngineer(Engineer):\n",
    "    def __init__(self, name: str, id_number: str, specialization: str, team_name: str):\n",
    "        super().__init__(name, id_number, specialization)\n",
    "        self.team_name = team_name\n",
    "        self.team_members = []\n",
    "\n",
    "    def add_team_member(self, engineer_object):\n",
    "        if len(self.team_members) < 5: \n",
    "            self.team_members.append(engineer_object)\n",
    "            print(f\"Engineer {engineer_object.name} assigned to team '{self.team_name}'.\")\n",
    "        else:\n",
    "            print(f\"Warning: Maximum team size of 5 reached. Cannot add {engineer_object.name}.\")\n",
    "\n",
    "\n",
    "# Testing\n",
    "chief_riley = ChiefEngineer(\"Riley\", \"CE-001\", \"Warp Drive Systems\", \"Engineering Core\")\n",
    "chief_riley.display_specialization() \n",
    "\n",
    "# Create several Engineer instances\n",
    "eng_list = [\n",
    "    Engineer(\"Jian\", \"ENG-101\", \"Life Support\"),\n",
    "    Engineer(\"Ben\", \"ENG-102\", \"Propulsion\"),\n",
    "    Engineer(\"Zara\", \"ENG-103\", \"Shield Systems\"),\n",
    "    Engineer(\"Olaf\", \"ENG-104\", \"Structural Integrity\"),\n",
    "    Engineer(\"Hana\", \"ENG-105\", \"Computer Core\"),\n",
    "    Engineer(\"Leo\", \"ENG-106\", \"Sensor Calibration\") # 6th engineer to test the limit\n",
    "]\n",
    "\n",
    "# Add engineers to the chief's team\n",
    "for eng in eng_list:\n",
    "    chief_riley.add_team_member(eng)\n",
    "\n",
    "# Display the final roster\n",
    "final_team_member_names = [member.name for member in chief_riley.team_members]\n",
    "\n",
    "print(f\"Members: {final_team_member_names}\")\n",
    "print(f\"Total members: {len(chief_riley.team_members)}\") # Should be 5"
   ]
  },
  {
   "cell_type": "markdown",
   "id": "9d0f6313",
   "metadata": {},
   "source": [
    "---\n",
    "#### © Jiří Svoboda (George Freedom)\n",
    "- Web: https://GeorgeFreedom.com\n",
    "- LinkedIn: https://www.linkedin.com/in/georgefreedom/\n",
    "- Book me: https://cal.com/georgefreedom"
   ]
  }
 ],
 "metadata": {
  "kernelspec": {
   "display_name": "Python 3",
   "language": "python",
   "name": "python3"
  },
  "language_info": {
   "name": "python",
   "version": "3.13.1"
  }
 },
 "nbformat": 4,
 "nbformat_minor": 5
}
