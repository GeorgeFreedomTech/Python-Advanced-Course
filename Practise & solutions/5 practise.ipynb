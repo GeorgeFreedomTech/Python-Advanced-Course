{
 "cells": [
  {
   "cell_type": "markdown",
   "id": "38c8f49b",
   "metadata": {},
   "source": [
    "## practice\n",
    "\n",
    "**Task: `PlanetaryProbe` Specialization**\n",
    "- **Scenario:** You are designing a system to manage different types of planetary probes for an exploration mission. All probes share some common actions but perform them differently based on their design.\n",
    "- **Requirements:**\n",
    "    - Create a base (parent) class named `PlanetaryProbe` with two methods:\n",
    "        - `traverse`: This method should print a generic message like `\"Probe is moving across terrain.\"`\n",
    "        - `emit_signal`: This method should print a generic message like `\"Emitting standard data pulse.\"`\n",
    "    - Create three child classes that inherit from `PlanetaryProbe`: `WheeledProbe`, `WalkingProbe`, and `FlyingProbe`.\n",
    "    - In each of the three child classes, **override** both the `traverse` and `emit_signal` methods to provide a specific implementation that fits the probe type.\n",
    "        - For example, `WheeledProbe` could print `\"Rolling across terrain...\"`, while `FlyingProbe` prints `\"Flying over terrain...\"`.\n",
    "        - Similarly, `WalkingProbe` could print `\"Sending seismic vibration data.\"`, while `FlyingProbe` prints `\"Sending high-resolution aerial scan data.\"`.\n",
    "- **Testing:**\n",
    "    - Create one instance of each of your specialized probe classes (`WheeledProbe`, `WalkingProbe`, `FlyingProbe`).\n",
    "    - Call the `traverse` and `emit_signal` methods on each probe. Observe how each object executes its own version of the method."
   ]
  },
  {
   "cell_type": "markdown",
   "id": "2e3f7a86",
   "metadata": {},
   "source": [
    "## Solutions\n",
    "- **Try First:** Only look at the solutions after you have tried solving the exercises `using your own effort` and are truly stuck.\n",
    "- **Multiple Solutions Exist:** `There are usually multiple ways to solve a task.` The code provided is just one possible approach.\n",
    "- **Focus on the Concept:** Please note that the code in these solutions is **intentionally simplified** to focus purely on the **currently discussed topic**. To maintain clarity and avoid distraction, the code often omits production-level features like comprehensive error handling (`try-except` blocks), type hints or full documentation (`docstrings`). The primary goal is to illustrate the core concept being taught, not to present production-quality code."
   ]
  },
  {
   "cell_type": "code",
   "execution_count": null,
   "id": "a0aa9dfb",
   "metadata": {},
   "outputs": [],
   "source": [
    "\n",
    "class PlanetaryProbe:\n",
    "    \"\"\"A generic blueprint for a planetary exploration probe.\"\"\"\n",
    "    def traverse(self):\n",
    "        print(\"Probe is moving...\") # Generic movement method\n",
    "\n",
    "    def emit_signal(self): # Generic signal method\n",
    "        print(\"Emitting standard telemetry pulse...\")\n",
    "\n",
    "\n",
    "class WheeledProbe(PlanetaryProbe):\n",
    "    def traverse(self):\n",
    "        print(\"Wheeled Probe: Rolling efficiently across flat terrain...\")\n",
    "    \n",
    "    def emit_signal(self):\n",
    "        print(\"Wheeled Probe: Sending ground-penetrating radar signal.\")\n",
    "\n",
    "\n",
    "class WalkingProbe(PlanetaryProbe):\n",
    "    def traverse(self):\n",
    "        print(\"Walking Probe: Carefully navigating rough, rocky terrain...\")\n",
    "\n",
    "    def emit_signal(self):\n",
    "        print(\"Walking Probe: Transmitting seismic activity data.\")\n",
    "\n",
    "\n",
    "class FlyingProbe(PlanetaryProbe):\n",
    "    def traverse(self):\n",
    "        print(\"Flying Probe: Soaring over the landscape for an aerial survey...\")\n",
    "\n",
    "    def emit_signal(self):\n",
    "        print(\"Flying Probe: Relaying high-resolution aerial imagery.\")\n",
    "\n",
    "\n",
    "# Testing\n",
    "print(\"--- Deploying and Testing a Mixed Probe Team ---\")\n",
    "\n",
    "rover = WheeledProbe()\n",
    "spider_bot = WalkingProbe()\n",
    "drone = FlyingProbe()\n",
    "\n",
    "deployment_team = [rover, spider_bot, drone]\n",
    "\n",
    "print(\"\\n Getting information from the probes...\")\n",
    "for probe in deployment_team:\n",
    "    probe.traverse()\n",
    "    probe.emit_signal()    "
   ]
  },
  {
   "cell_type": "markdown",
   "id": "7d349138",
   "metadata": {},
   "source": [
    "---\n",
    "#### © Jiří Svoboda (George Freedom)\n",
    "- Web: https://GeorgeFreedom.com\n",
    "- LinkedIn: https://www.linkedin.com/in/georgefreedom/\n",
    "- Book me: https://cal.com/george-freedom-tech-mentor"
   ]
  }
 ],
 "metadata": {
  "kernelspec": {
   "display_name": "Python 3",
   "language": "python",
   "name": "python3"
  },
  "language_info": {
   "name": "python",
   "version": "3.13.1"
  }
 },
 "nbformat": 4,
 "nbformat_minor": 5
}
