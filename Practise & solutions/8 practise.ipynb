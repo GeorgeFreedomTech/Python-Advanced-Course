{
 "cells": [
  {
   "cell_type": "markdown",
   "id": "ce990498",
   "metadata": {},
   "source": [
    "## practice\n",
    "\n",
    "**Task: Create a `Specialist` Class**\n",
    "- **Scenario:** You are creating a class to represent a specialist operative on your team.\n",
    "- **Requirements:**\n",
    "    - Create a class named `Specialist` with the attributes: `name`, `profession`, and `skill_level` (an integer).\n",
    "    - Override the appropriate dunder methods to achieve the following behavior:\n",
    "        - When an object of the class is printed (`print`), it should display a user-friendly string with information about all its attributes.\n",
    "        - When an object of the class is converted to an integer (`int`), it should return the specialist's unique `skill_level`.\n",
    "\n",
    "---\n",
    "\n",
    "**Challenge I: Replicable Profile**\n",
    "- Using the same `Specialist` class, override the `__repr__()` method so you can create an identical copy of a `Specialist` object.\n",
    "\n",
    "---\n",
    "\n",
    "**Challenge II: Skill Level Arithmetic**\n",
    "- Still in the `Specialist` class, override the appropriate dunder methods to allow two `Specialist` objects to be added (`+`) and subtracted (`-`).\n",
    "- The addition or subtraction should operate on their `skill_level` attributes, returning a new integer result."
   ]
  },
  {
   "cell_type": "markdown",
   "id": "4370ed12",
   "metadata": {},
   "source": [
    "## Solutions\n",
    "- **Try First:** Only look at the solutions after you have tried solving the exercises `using your own effort` and are truly stuck.\n",
    "- **Multiple Solutions Exist:** `There are usually multiple ways to solve a task.` The code provided is just one possible approach.\n",
    "- **Focus on the Concept:** Please note that the code in these solutions is **intentionally simplified** to focus purely on the **currently discussed topic**. To maintain clarity and avoid distraction, the code often omits production-level features like comprehensive error handling (`try-except` blocks), type hints or full documentation (`docstrings`). The primary goal is to illustrate the core concept being taught, not to present production-quality code."
   ]
  },
  {
   "cell_type": "code",
   "execution_count": null,
   "id": "a1486865",
   "metadata": {},
   "outputs": [],
   "source": [
    "class SystemComponent:\n",
    "    def __init__(self, name: str, component_type: str, status_code: int):\n",
    "        self.name = name\n",
    "        self.component_type = component_type\n",
    "        self.status_code = status_code\n",
    "\n",
    "    def __str__(self) -> str:\n",
    "        return f\"Component: {self.name} (Type: {self.component_type}) | Status Code: {self.status_code}\"\n",
    "\n",
    "    def __int__(self) -> int:\n",
    "        return self.status_code\n",
    "        \n",
    "# Challenge I: \n",
    "    def __repr__(self) -> str:\n",
    "        return f\"SystemComponent('{self.name}', '{self.component_type}', {self.status_code})\"\n",
    "\n",
    "# Challenge II: \n",
    "    def __add__(self, other):\n",
    "        if isinstance(other, SystemComponent): # Check if the other object is also a SystemComponent\n",
    "            return self.status_code + other.status_code\n",
    "        return ValueError\n",
    "    \n",
    "# Challenge II: \n",
    "    def __sub__(self, other):\n",
    "        if isinstance(other, SystemComponent):\n",
    "            return self.status_code - other.status_code\n",
    "        return ValueError\n",
    "\n",
    "\n",
    "# Testing\n",
    "print(\"--- Testing SystemComponent Class ---\")\n",
    "\n",
    "nav_system = SystemComponent(\"Navigation\", \"Software\", 200)\n",
    "power_relay = SystemComponent(\"Power Relay\", \"Hardware\", 503)\n",
    "\n",
    "print(nav_system)\n",
    "print(power_relay)\n",
    "\n",
    "nav_system_repr = repr(nav_system)\n",
    "nav_system_copy = eval(nav_system_repr)\n",
    "print(f\"Original and copy names are the same: {nav_system.name == nav_system_copy.name}\")\n",
    "print(f\"Original and copy types are the same: {nav_system.component_type == nav_system_copy.component_type}\")\n",
    "print(f\"Original and copy status codes are the same: {nav_system.status_code == nav_system_copy.status_code}\")\n",
    "print(f\"Original and copy are the same object: {nav_system is nav_system_copy}\")\n",
    "\n",
    "sum_of_codes = nav_system + power_relay \n",
    "print(f\"Result: {sum_of_codes}\")\n",
    "\n",
    "diff_of_codes = nav_system - power_relay\n",
    "print(f\"Result: {diff_of_codes}\")"
   ]
  },
  {
   "cell_type": "markdown",
   "id": "0016b2ff",
   "metadata": {},
   "source": [
    "---\n",
    "#### © Jiří Svoboda (George Freedom)\n",
    "- Web: https://GeorgeFreedom.com\n",
    "- LinkedIn: https://www.linkedin.com/in/georgefreedom/\n",
    "- Book me: https://cal.com/georgefreedom"
   ]
  }
 ],
 "metadata": {
  "language_info": {
   "name": "python"
  }
 },
 "nbformat": 4,
 "nbformat_minor": 5
}
